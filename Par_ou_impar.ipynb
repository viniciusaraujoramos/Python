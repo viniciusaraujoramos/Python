{
  "nbformat": 4,
  "nbformat_minor": 0,
  "metadata": {
    "colab": {
      "provenance": []
    },
    "kernelspec": {
      "name": "python3",
      "display_name": "Python 3"
    },
    "language_info": {
      "name": "python"
    }
  },
  "cells": [
    {
      "cell_type": "code",
      "source": [
        "numeroDigitado = \" \"\n",
        "\n",
        "print(\"Bem vindo ao codigo do vcin\")\n",
        "\n",
        "continuar = True\n",
        "\n",
        "while continuar:\n",
        "    numeroDigitado = int(input(\"Digite um número: \"))\n",
        "\n",
        "    if numeroDigitado % 2 == 0:\n",
        "        print(\"O número é par.\")\n",
        "    else:\n",
        "        print(\"O número é ímpar.\")\n",
        "\n",
        "    continuar = input(\"Deseja continuar? (s/n): \").lower() == 's'"
      ],
      "metadata": {
        "colab": {
          "base_uri": "https://localhost:8080/"
        },
        "id": "Y3xX1Mbii0UL",
        "outputId": "eb9468b5-50d0-4aa0-d3df-5aa3b4d50e6a"
      },
      "execution_count": null,
      "outputs": [
        {
          "name": "stdout",
          "output_type": "stream",
          "text": [
            "Bem vindo ao codigo do vcin\n",
            "Digite um número: 4\n",
            "O número é par.\n",
            "Deseja continuar? (s/n): s\n",
            "Digite um número: 7\n",
            "O número é ímpar.\n",
            "Deseja continuar? (s/n): n\n"
          ]
        }
      ]
    }
  ]
}